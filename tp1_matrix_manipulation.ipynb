{
 "cells": [
  {
   "cell_type": "code",
   "execution_count": 1,
   "metadata": {},
   "outputs": [],
   "source": [
    "# exercice 1\n",
    "import numpy as np \n",
    "\n",
    "X = np.array([[2, 1],\n",
    "              [6, 6],\n",
    "              [5, 3],\n",
    "              [3, 3],\n",
    "              [3, 5],\n",
    "              [1, 2]])\n",
    "XTX = np.dot(X.T, X)"
   ]
  },
  {
   "cell_type": "code",
   "execution_count": 2,
   "metadata": {},
   "outputs": [
    {
     "name": "stdout",
     "output_type": "stream",
     "text": [
      "[[84 79]\n",
      " [79 84]]\n"
     ]
    }
   ],
   "source": [
    "print(XTX)"
   ]
  },
  {
   "cell_type": "code",
   "execution_count": 3,
   "metadata": {},
   "outputs": [],
   "source": [
    "# question 1\n",
    "# XTX a 2 valeurs propres distinctes et de taille 2x2 donc XTX est diagonalisable"
   ]
  },
  {
   "cell_type": "code",
   "execution_count": 4,
   "metadata": {},
   "outputs": [
    {
     "name": "stdout",
     "output_type": "stream",
     "text": [
      "valeursPropres: [163.   5.]\n",
      "vecteursPropres: [[ 0.70710678 -0.70710678]\n",
      " [ 0.70710678  0.70710678]]\n"
     ]
    }
   ],
   "source": [
    "# question 2\n",
    "valeursPropres, vecteursPropres = np.linalg.eig(XTX)\n",
    "\n",
    "print(\"valeursPropres:\", valeursPropres)\n",
    "print(\"vecteursPropres:\", vecteursPropres)\n"
   ]
  },
  {
   "cell_type": "code",
   "execution_count": 5,
   "metadata": {},
   "outputs": [],
   "source": [
    "# question 3\n",
    "\n",
    "\n",
    "# 163 est la valeur propre la plus grande qui a l'indice 0 dans valeursPropres\n",
    "u1 = vecteursPropres[0]\n",
    "u2 = vecteursPropres[1]"
   ]
  },
  {
   "cell_type": "code",
   "execution_count": 6,
   "metadata": {},
   "outputs": [],
   "source": [
    "# question 4\n",
    "\n",
    "PSI = np.dot(X,  vecteursPropres.T)"
   ]
  },
  {
   "cell_type": "code",
   "execution_count": 7,
   "metadata": {},
   "outputs": [
    {
     "data": {
      "text/plain": [
       "(0.0, 8.859545442950498)"
      ]
     },
     "execution_count": 7,
     "metadata": {},
     "output_type": "execute_result"
    },
    {
     "data": {
      "image/png": "[encoded data removed]",
      "text/plain": [
       "<Figure size 640x480 with 1 Axes>"
      ]
     },
     "metadata": {},
     "output_type": "display_data"
    }
   ],
   "source": [
    "# question 5 \n",
    "import numpy as np\n",
    "import matplotlib.pyplot as plt\n",
    "\n",
    "plt.scatter(X[:, 0], X[:, 1], label=\"X\")\n",
    "plt.scatter(PSI[:, 0], PSI[:, 1], label=\"PSI\")\n",
    "plt.legend()\n",
    "plt.axis('equal')\n",
    "plt.xlim(0)\n",
    "plt.ylim(0)"
   ]
  },
  {
   "cell_type": "code",
   "execution_count": 8,
   "metadata": {},
   "outputs": [],
   "source": [
    "# question 6\n",
    "XXT = np.dot(X, X.T)\n",
    "valeursPropres1, vecteursPropres1 = np.linalg.eig(XXT)"
   ]
  },
  {
   "cell_type": "code",
   "execution_count": 9,
   "metadata": {},
   "outputs": [
    {
     "name": "stdout",
     "output_type": "stream",
     "text": [
      "[ 1.63000000e+02 -7.04526380e-16  5.00000000e+00  7.16893753e-15\n",
      "  3.90990472e-16 -5.14723513e-16]\n"
     ]
    }
   ],
   "source": [
    "print(valeursPropres1)\n",
    "\n",
    "# les deux plus grandes valeurs de valeursPropres1 sont 163 et 5 d'indice 0 et 2 respectivement\n",
    "# d'ou v1 et v2 sont les vacteurs d'indice 0 et 2 de vecteursPropres1\n",
    "v1 = vecteursPropres1[0]\n",
    "v2 = vecteursPropres1[2]\n"
   ]
  },
  {
   "cell_type": "code",
   "execution_count": 10,
   "metadata": {},
   "outputs": [
    {
     "data": {
      "text/plain": [
       "array([[-1.98466193,  1.2668588 ],\n",
       "       [-1.21518827, -0.2639405 ]])"
      ]
     },
     "execution_count": 10,
     "metadata": {},
     "output_type": "execute_result"
    }
   ],
   "source": [
    "V = np.array([v1, v2]).T\n",
    "PHI = np.dot(X.T, V)\n",
    "PHI"
   ]
  },
  {
   "cell_type": "code",
   "execution_count": 11,
   "metadata": {},
   "outputs": [
    {
     "data": {
      "text/plain": [
       "<matplotlib.legend.Legend at 0x1e2a701fa00>"
      ]
     },
     "execution_count": 11,
     "metadata": {},
     "output_type": "execute_result"
    },
    {
     "data": {
      "image/png": "[encoded data removed]",
      "text/plain": [
       "<Figure size 640x480 with 1 Axes>"
      ]
     },
     "metadata": {},
     "output_type": "display_data"
    }
   ],
   "source": [
    "# question 7\n",
    "plt.scatter(PHI[:, 0], PHI[:, 1], label=\"PSI\")\n",
    "plt.legend()\n",
    "# Les coordonnées dans le nouveau repère (0, v1, v2)"
   ]
  },
  {
   "cell_type": "code",
   "execution_count": 12,
   "metadata": {},
   "outputs": [],
   "source": [
    "# question 8\n",
    "indivIllust = np.array([3, 9])\n",
    "varSuppl = np.array([1, 2, 1, 1, 3, 2]).T\n",
    "#Les coordonnées de l'individu illustratif dans le nouveau repère (0, u1, u2)\n",
    "indivIllustNouveauRepere = np.dot(indivIllust, vecteursPropres.T)\n",
    "#Les coordonnées de la variable supplémentaire dans le nouveau repère (0, v1, v2)\n",
    "varSupplNouveauRepere = np.dot(varSuppl.T, V)"
   ]
  },
  {
   "cell_type": "code",
   "execution_count": 13,
   "metadata": {},
   "outputs": [
    {
     "name": "stdout",
     "output_type": "stream",
     "text": [
      "[-4.24264069  8.48528137]\n",
      "[ 0.91114356 -1.04600036]\n"
     ]
    }
   ],
   "source": [
    "print(indivIllustNouveauRepere)\n",
    "print(varSupplNouveauRepere)"
   ]
  },
  {
   "cell_type": "code",
   "execution_count": 14,
   "metadata": {},
   "outputs": [],
   "source": [
    "# exercice 2\n",
    "# question 1\n",
    "s = 2 + 1 + 7 + 0 #somme des poids\n",
    "D = np.array([[2/s, 0, 0, 0],\n",
    "              [0, 1/s, 0, 0],\n",
    "              [0, 0, 7/s, 0],\n",
    "              [0, 0, 0, 0/s]])"
   ]
  },
  {
   "cell_type": "code",
   "execution_count": 15,
   "metadata": {},
   "outputs": [],
   "source": [
    "# question 2\n",
    "X = np.array([[5, 3],\n",
    "              [2, 6],\n",
    "              [4, 1],\n",
    "              [7, 4]])\n",
    "Dsqrt = np.sqrt(D)"
   ]
  },
  {
   "cell_type": "code",
   "execution_count": 16,
   "metadata": {},
   "outputs": [],
   "source": [
    "# question 3\n",
    "# matrice de travail\n",
    "DsqrtX = np.dot(Dsqrt, X)\n",
    "\n",
    "# matrice à diagonaliser\n",
    "XTDX = np.dot(DsqrtX.T, DsqrtX)"
   ]
  },
  {
   "cell_type": "code",
   "execution_count": 17,
   "metadata": {},
   "outputs": [
    {
     "name": "stdout",
     "output_type": "stream",
     "text": [
      "[20.1  2.6]\n",
      "[[ 0.89442719 -0.4472136 ]\n",
      " [ 0.4472136   0.89442719]]\n"
     ]
    }
   ],
   "source": [
    "# question 4\n",
    "valeursPropres2, vecteursPropres2 = np.linalg.eig(XTDX)\n",
    "print(valeursPropres2)\n",
    "print(vecteursPropres2)"
   ]
  },
  {
   "cell_type": "code",
   "execution_count": 18,
   "metadata": {},
   "outputs": [],
   "source": [
    "# question 5\n",
    "# les valeurs de valeursPropres2 sont déja triées en ordre descendant\n",
    "u1 = vecteursPropres2[0]\n",
    "u2 = vecteursPropres2[1]"
   ]
  },
  {
   "cell_type": "code",
   "execution_count": 19,
   "metadata": {},
   "outputs": [],
   "source": [
    "# question 6\n",
    "U = np.array([u1, u2]).T\n",
    "PSI = np.dot(X,  U)"
   ]
  },
  {
   "cell_type": "code",
   "execution_count": 20,
   "metadata": {},
   "outputs": [],
   "source": [
    "# question 7\n",
    "PHI = np.array([np.sqrt(valeursPropres2[0]) * u1,\n",
    "                np.sqrt(valeursPropres2[1]) * u2]).T"
   ]
  }
 ],
 "metadata": {
  "kernelspec": {
   "display_name": "Python 3",
   "language": "python",
   "name": "python3"
  },
  "language_info": {
   "codemirror_mode": {
    "name": "ipython",
    "version": 3
   },
   "file_extension": ".py",
   "mimetype": "text/x-python",
   "name": "python",
   "nbconvert_exporter": "python",
   "pygments_lexer": "ipython3",
   "version": "3.10.6"
  }
 },
 "nbformat": 4,
 "nbformat_minor": 2
}
